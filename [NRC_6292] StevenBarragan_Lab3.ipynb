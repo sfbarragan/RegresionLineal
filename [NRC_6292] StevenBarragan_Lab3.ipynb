{
 "cells": [
  {
   "cell_type": "markdown",
   "id": "53fde47a",
   "metadata": {},
   "source": [
    "<center><h1>Técnicas de Inteligencia Artificial</header1></center>"
   ]
  },
  {
   "cell_type": "markdown",
   "id": "8b242f56",
   "metadata": {},
   "source": [
    "Presentado por: Steven Fernando Barragan Montero  <br>\n",
    "Fecha: 18/07/2022"
   ]
  },
  {
   "cell_type": "markdown",
   "id": "3ca19c3c",
   "metadata": {},
   "source": [
    "# Importación de librerias necesarias"
   ]
  },
  {
   "cell_type": "code",
   "execution_count": 14,
   "id": "742937e5",
   "metadata": {},
   "outputs": [],
   "source": [
    "# Importamos la libreria pandas\n",
    "import pandas as pd\n",
    "# Importamos la libreria numpy\n",
    "import numpy as np"
   ]
  },
  {
   "cell_type": "markdown",
   "id": "e123e2b2",
   "metadata": {},
   "source": [
    "# Carga del dataset\n",
    "El dataset cuenta con 414 instancias, posee una variable de salida Y, que depende de 6 variables de entrada para poder predecir el precio de una casa. "
   ]
  },
  {
   "cell_type": "code",
   "execution_count": 8,
   "id": "bc62320c",
   "metadata": {},
   "outputs": [],
   "source": [
    "#url dataset\n",
    "url='https://raw.githubusercontent.com/sfbarragan/RegresionLineal/master/Real%20estate.csv'\n",
    "#cargar datos en base a la url del dataset\n",
    "df=pd.read_csv(url)"
   ]
  },
  {
   "cell_type": "code",
   "execution_count": 9,
   "id": "f17e871d",
   "metadata": {},
   "outputs": [
    {
     "data": {
      "text/html": [
       "<div>\n",
       "<style scoped>\n",
       "    .dataframe tbody tr th:only-of-type {\n",
       "        vertical-align: middle;\n",
       "    }\n",
       "\n",
       "    .dataframe tbody tr th {\n",
       "        vertical-align: top;\n",
       "    }\n",
       "\n",
       "    .dataframe thead th {\n",
       "        text-align: right;\n",
       "    }\n",
       "</style>\n",
       "<table border=\"1\" class=\"dataframe\">\n",
       "  <thead>\n",
       "    <tr style=\"text-align: right;\">\n",
       "      <th></th>\n",
       "      <th>No</th>\n",
       "      <th>X1 transaction date</th>\n",
       "      <th>X2 house age</th>\n",
       "      <th>X3 distance to the nearest MRT station</th>\n",
       "      <th>X4 number of convenience stores</th>\n",
       "      <th>X5 latitude</th>\n",
       "      <th>X6 longitude</th>\n",
       "      <th>Y house price of unit area</th>\n",
       "    </tr>\n",
       "  </thead>\n",
       "  <tbody>\n",
       "    <tr>\n",
       "      <th>0</th>\n",
       "      <td>1</td>\n",
       "      <td>2012.917</td>\n",
       "      <td>32.0</td>\n",
       "      <td>84.87882</td>\n",
       "      <td>10</td>\n",
       "      <td>24.98298</td>\n",
       "      <td>121.54024</td>\n",
       "      <td>37.9</td>\n",
       "    </tr>\n",
       "    <tr>\n",
       "      <th>1</th>\n",
       "      <td>2</td>\n",
       "      <td>2012.917</td>\n",
       "      <td>19.5</td>\n",
       "      <td>306.59470</td>\n",
       "      <td>9</td>\n",
       "      <td>24.98034</td>\n",
       "      <td>121.53951</td>\n",
       "      <td>42.2</td>\n",
       "    </tr>\n",
       "    <tr>\n",
       "      <th>2</th>\n",
       "      <td>3</td>\n",
       "      <td>2013.583</td>\n",
       "      <td>13.3</td>\n",
       "      <td>561.98450</td>\n",
       "      <td>5</td>\n",
       "      <td>24.98746</td>\n",
       "      <td>121.54391</td>\n",
       "      <td>47.3</td>\n",
       "    </tr>\n",
       "    <tr>\n",
       "      <th>3</th>\n",
       "      <td>4</td>\n",
       "      <td>2013.500</td>\n",
       "      <td>13.3</td>\n",
       "      <td>561.98450</td>\n",
       "      <td>5</td>\n",
       "      <td>24.98746</td>\n",
       "      <td>121.54391</td>\n",
       "      <td>54.8</td>\n",
       "    </tr>\n",
       "    <tr>\n",
       "      <th>4</th>\n",
       "      <td>5</td>\n",
       "      <td>2012.833</td>\n",
       "      <td>5.0</td>\n",
       "      <td>390.56840</td>\n",
       "      <td>5</td>\n",
       "      <td>24.97937</td>\n",
       "      <td>121.54245</td>\n",
       "      <td>43.1</td>\n",
       "    </tr>\n",
       "    <tr>\n",
       "      <th>5</th>\n",
       "      <td>6</td>\n",
       "      <td>2012.667</td>\n",
       "      <td>7.1</td>\n",
       "      <td>2175.03000</td>\n",
       "      <td>3</td>\n",
       "      <td>24.96305</td>\n",
       "      <td>121.51254</td>\n",
       "      <td>32.1</td>\n",
       "    </tr>\n",
       "    <tr>\n",
       "      <th>6</th>\n",
       "      <td>7</td>\n",
       "      <td>2012.667</td>\n",
       "      <td>34.5</td>\n",
       "      <td>623.47310</td>\n",
       "      <td>7</td>\n",
       "      <td>24.97933</td>\n",
       "      <td>121.53642</td>\n",
       "      <td>40.3</td>\n",
       "    </tr>\n",
       "    <tr>\n",
       "      <th>7</th>\n",
       "      <td>8</td>\n",
       "      <td>2013.417</td>\n",
       "      <td>20.3</td>\n",
       "      <td>287.60250</td>\n",
       "      <td>6</td>\n",
       "      <td>24.98042</td>\n",
       "      <td>121.54228</td>\n",
       "      <td>46.7</td>\n",
       "    </tr>\n",
       "    <tr>\n",
       "      <th>8</th>\n",
       "      <td>9</td>\n",
       "      <td>2013.500</td>\n",
       "      <td>31.7</td>\n",
       "      <td>5512.03800</td>\n",
       "      <td>1</td>\n",
       "      <td>24.95095</td>\n",
       "      <td>121.48458</td>\n",
       "      <td>18.8</td>\n",
       "    </tr>\n",
       "    <tr>\n",
       "      <th>9</th>\n",
       "      <td>10</td>\n",
       "      <td>2013.417</td>\n",
       "      <td>17.9</td>\n",
       "      <td>1783.18000</td>\n",
       "      <td>3</td>\n",
       "      <td>24.96731</td>\n",
       "      <td>121.51486</td>\n",
       "      <td>22.1</td>\n",
       "    </tr>\n",
       "  </tbody>\n",
       "</table>\n",
       "</div>"
      ],
      "text/plain": [
       "   No  X1 transaction date  X2 house age  \\\n",
       "0   1             2012.917          32.0   \n",
       "1   2             2012.917          19.5   \n",
       "2   3             2013.583          13.3   \n",
       "3   4             2013.500          13.3   \n",
       "4   5             2012.833           5.0   \n",
       "5   6             2012.667           7.1   \n",
       "6   7             2012.667          34.5   \n",
       "7   8             2013.417          20.3   \n",
       "8   9             2013.500          31.7   \n",
       "9  10             2013.417          17.9   \n",
       "\n",
       "   X3 distance to the nearest MRT station  X4 number of convenience stores  \\\n",
       "0                                84.87882                               10   \n",
       "1                               306.59470                                9   \n",
       "2                               561.98450                                5   \n",
       "3                               561.98450                                5   \n",
       "4                               390.56840                                5   \n",
       "5                              2175.03000                                3   \n",
       "6                               623.47310                                7   \n",
       "7                               287.60250                                6   \n",
       "8                              5512.03800                                1   \n",
       "9                              1783.18000                                3   \n",
       "\n",
       "   X5 latitude  X6 longitude  Y house price of unit area  \n",
       "0     24.98298     121.54024                        37.9  \n",
       "1     24.98034     121.53951                        42.2  \n",
       "2     24.98746     121.54391                        47.3  \n",
       "3     24.98746     121.54391                        54.8  \n",
       "4     24.97937     121.54245                        43.1  \n",
       "5     24.96305     121.51254                        32.1  \n",
       "6     24.97933     121.53642                        40.3  \n",
       "7     24.98042     121.54228                        46.7  \n",
       "8     24.95095     121.48458                        18.8  \n",
       "9     24.96731     121.51486                        22.1  "
      ]
     },
     "execution_count": 9,
     "metadata": {},
     "output_type": "execute_result"
    }
   ],
   "source": [
    "#visualización de los 10 primeros datos\n",
    "df.head(10)"
   ]
  },
  {
   "cell_type": "code",
   "execution_count": 6,
   "id": "0bb47fb1",
   "metadata": {},
   "outputs": [
    {
     "data": {
      "text/html": [
       "<div>\n",
       "<style scoped>\n",
       "    .dataframe tbody tr th:only-of-type {\n",
       "        vertical-align: middle;\n",
       "    }\n",
       "\n",
       "    .dataframe tbody tr th {\n",
       "        vertical-align: top;\n",
       "    }\n",
       "\n",
       "    .dataframe thead th {\n",
       "        text-align: right;\n",
       "    }\n",
       "</style>\n",
       "<table border=\"1\" class=\"dataframe\">\n",
       "  <thead>\n",
       "    <tr style=\"text-align: right;\">\n",
       "      <th></th>\n",
       "      <th>No</th>\n",
       "      <th>X1 transaction date</th>\n",
       "      <th>X2 house age</th>\n",
       "      <th>X3 distance to the nearest MRT station</th>\n",
       "      <th>X4 number of convenience stores</th>\n",
       "      <th>X5 latitude</th>\n",
       "      <th>X6 longitude</th>\n",
       "      <th>Y house price of unit area</th>\n",
       "    </tr>\n",
       "  </thead>\n",
       "  <tbody>\n",
       "    <tr>\n",
       "      <th>count</th>\n",
       "      <td>414.000000</td>\n",
       "      <td>414.000000</td>\n",
       "      <td>414.000000</td>\n",
       "      <td>414.000000</td>\n",
       "      <td>414.000000</td>\n",
       "      <td>414.000000</td>\n",
       "      <td>414.000000</td>\n",
       "      <td>414.000000</td>\n",
       "    </tr>\n",
       "    <tr>\n",
       "      <th>mean</th>\n",
       "      <td>207.500000</td>\n",
       "      <td>2013.148971</td>\n",
       "      <td>17.712560</td>\n",
       "      <td>1083.885689</td>\n",
       "      <td>4.094203</td>\n",
       "      <td>24.969030</td>\n",
       "      <td>121.533361</td>\n",
       "      <td>37.980193</td>\n",
       "    </tr>\n",
       "    <tr>\n",
       "      <th>std</th>\n",
       "      <td>119.655756</td>\n",
       "      <td>0.281967</td>\n",
       "      <td>11.392485</td>\n",
       "      <td>1262.109595</td>\n",
       "      <td>2.945562</td>\n",
       "      <td>0.012410</td>\n",
       "      <td>0.015347</td>\n",
       "      <td>13.606488</td>\n",
       "    </tr>\n",
       "    <tr>\n",
       "      <th>min</th>\n",
       "      <td>1.000000</td>\n",
       "      <td>2012.667000</td>\n",
       "      <td>0.000000</td>\n",
       "      <td>23.382840</td>\n",
       "      <td>0.000000</td>\n",
       "      <td>24.932070</td>\n",
       "      <td>121.473530</td>\n",
       "      <td>7.600000</td>\n",
       "    </tr>\n",
       "    <tr>\n",
       "      <th>25%</th>\n",
       "      <td>104.250000</td>\n",
       "      <td>2012.917000</td>\n",
       "      <td>9.025000</td>\n",
       "      <td>289.324800</td>\n",
       "      <td>1.000000</td>\n",
       "      <td>24.963000</td>\n",
       "      <td>121.528085</td>\n",
       "      <td>27.700000</td>\n",
       "    </tr>\n",
       "    <tr>\n",
       "      <th>50%</th>\n",
       "      <td>207.500000</td>\n",
       "      <td>2013.167000</td>\n",
       "      <td>16.100000</td>\n",
       "      <td>492.231300</td>\n",
       "      <td>4.000000</td>\n",
       "      <td>24.971100</td>\n",
       "      <td>121.538630</td>\n",
       "      <td>38.450000</td>\n",
       "    </tr>\n",
       "    <tr>\n",
       "      <th>75%</th>\n",
       "      <td>310.750000</td>\n",
       "      <td>2013.417000</td>\n",
       "      <td>28.150000</td>\n",
       "      <td>1454.279000</td>\n",
       "      <td>6.000000</td>\n",
       "      <td>24.977455</td>\n",
       "      <td>121.543305</td>\n",
       "      <td>46.600000</td>\n",
       "    </tr>\n",
       "    <tr>\n",
       "      <th>max</th>\n",
       "      <td>414.000000</td>\n",
       "      <td>2013.583000</td>\n",
       "      <td>43.800000</td>\n",
       "      <td>6488.021000</td>\n",
       "      <td>10.000000</td>\n",
       "      <td>25.014590</td>\n",
       "      <td>121.566270</td>\n",
       "      <td>117.500000</td>\n",
       "    </tr>\n",
       "  </tbody>\n",
       "</table>\n",
       "</div>"
      ],
      "text/plain": [
       "               No  X1 transaction date  X2 house age  \\\n",
       "count  414.000000           414.000000    414.000000   \n",
       "mean   207.500000          2013.148971     17.712560   \n",
       "std    119.655756             0.281967     11.392485   \n",
       "min      1.000000          2012.667000      0.000000   \n",
       "25%    104.250000          2012.917000      9.025000   \n",
       "50%    207.500000          2013.167000     16.100000   \n",
       "75%    310.750000          2013.417000     28.150000   \n",
       "max    414.000000          2013.583000     43.800000   \n",
       "\n",
       "       X3 distance to the nearest MRT station  \\\n",
       "count                              414.000000   \n",
       "mean                              1083.885689   \n",
       "std                               1262.109595   \n",
       "min                                 23.382840   \n",
       "25%                                289.324800   \n",
       "50%                                492.231300   \n",
       "75%                               1454.279000   \n",
       "max                               6488.021000   \n",
       "\n",
       "       X4 number of convenience stores  X5 latitude  X6 longitude  \\\n",
       "count                       414.000000   414.000000    414.000000   \n",
       "mean                          4.094203    24.969030    121.533361   \n",
       "std                           2.945562     0.012410      0.015347   \n",
       "min                           0.000000    24.932070    121.473530   \n",
       "25%                           1.000000    24.963000    121.528085   \n",
       "50%                           4.000000    24.971100    121.538630   \n",
       "75%                           6.000000    24.977455    121.543305   \n",
       "max                          10.000000    25.014590    121.566270   \n",
       "\n",
       "       Y house price of unit area  \n",
       "count                  414.000000  \n",
       "mean                    37.980193  \n",
       "std                     13.606488  \n",
       "min                      7.600000  \n",
       "25%                     27.700000  \n",
       "50%                     38.450000  \n",
       "75%                     46.600000  \n",
       "max                    117.500000  "
      ]
     },
     "execution_count": 6,
     "metadata": {},
     "output_type": "execute_result"
    }
   ],
   "source": [
    "#desplegar la descripción del dataset\n",
    "df.describe()"
   ]
  },
  {
   "cell_type": "markdown",
   "id": "ea690b37",
   "metadata": {},
   "source": [
    "# Descripción de la fuente del Dataset\n",
    "\n",
    "El dataset contiene la información de 414 casas pertenecientes a una misma zona. Dicho dataset contiene 7 atributos, incluida una característica de clase (objetivo) que indica el precio de la casa. El significado comercial de cada columna (atributo) en los datos es el siguiente:\n",
    "\n",
    "**Variable Y**<br>\n",
    "**House price of unit area:** Continuo. Precio de la vivienda por unidad de superficie local (NewTaipei Dollar $10000 por 3,3 metros cuadrados)<br>\n",
    "\n",
    "**Variables Independientes**<br>\n",
    "\n",
    "**Transaction date:** Fecha de transacción<br>\n",
    "**House age:** La edad de la casa en años<br>\n",
    "**Fistance to neares MRT station:** la distancia a la estación de metro más cercana en metros.<br>\n",
    "**Number of convenience stores:** el número de tiendas de conveniencia a las que se puede acceder a pie.<br>\n",
    "**Latitude:** coordenadas de latitud.<br>\n",
    "**Longitude:** coordenadas de longitud.<br>"
   ]
  },
  {
   "cell_type": "markdown",
   "id": "556fef16",
   "metadata": {},
   "source": [
    "# Problema a resolver\n",
    "\n",
    "Se requiere crear un modelo de aprendizaje automático que permita predecir el precio adecuado de una casa en función de sus especificaciones. Para lo cuál se utilizara el dataset descrito en el apartado anterior, el cuál contiene 414 registros. Donde, la variable objetivo se denomina **\"House price of unit area\"**. Existen 6 variables de entrada llamadas: **Transaction date, House age, Fistance to neares MRT station, Number of convenience stores, Latitude y Longitude**"
   ]
  },
  {
   "cell_type": "markdown",
   "id": "4c9fa8fd",
   "metadata": {},
   "source": [
    "# Caracterización del Dataset"
   ]
  },
  {
   "cell_type": "markdown",
   "id": "a705ea60",
   "metadata": {},
   "source": [
    "# Número de instancias en total"
   ]
  },
  {
   "cell_type": "code",
   "execution_count": 10,
   "id": "7bb8d45f",
   "metadata": {},
   "outputs": [
    {
     "data": {
      "text/plain": [
       "No                                        414\n",
       "X1 transaction date                       414\n",
       "X2 house age                              414\n",
       "X3 distance to the nearest MRT station    414\n",
       "X4 number of convenience stores           414\n",
       "X5 latitude                               414\n",
       "X6 longitude                              414\n",
       "Y house price of unit area                414\n",
       "dtype: int64"
      ]
     },
     "execution_count": 10,
     "metadata": {},
     "output_type": "execute_result"
    }
   ],
   "source": [
    "# Contamos los registros del dataset\n",
    "df.count()"
   ]
  },
  {
   "cell_type": "markdown",
   "id": "8139ad25",
   "metadata": {},
   "source": [
    "# Número de atributos de entrada, su significado y tipo.\n",
    "\n",
    "\n",
    "**Transaction date:** Categorico. Fecha de transacción<br>\n",
    "**House age:** Continuo. La edad de la casa en años<br>\n",
    "**Fistance to neares MRT station:** Continuo. la distancia a la estación de metro más cercana en metros.<br>\n",
    "**Number of convenience stores:** Categorico. el número de tiendas de conveniencia a las que se puede acceder a pie.<br>\n",
    "**Latitude:** Continuo. coordenadas de latitud.<br>\n",
    "**Longitude:** Continuo. coordenadas de longitud.<br>"
   ]
  },
  {
   "cell_type": "code",
   "execution_count": 13,
   "id": "8e098089",
   "metadata": {},
   "outputs": [
    {
     "name": "stdout",
     "output_type": "stream",
     "text": [
      "<class 'pandas.core.frame.DataFrame'>\n",
      "RangeIndex: 414 entries, 0 to 413\n",
      "Data columns (total 7 columns):\n",
      " #   Column                                  Non-Null Count  Dtype  \n",
      "---  ------                                  --------------  -----  \n",
      " 0   No                                      414 non-null    int64  \n",
      " 1   X1 transaction date                     414 non-null    float64\n",
      " 2   X2 house age                            414 non-null    float64\n",
      " 3   X3 distance to the nearest MRT station  414 non-null    float64\n",
      " 4   X4 number of convenience stores         414 non-null    int64  \n",
      " 5   X5 latitude                             414 non-null    float64\n",
      " 6   X6 longitude                            414 non-null    float64\n",
      "dtypes: float64(5), int64(2)\n",
      "memory usage: 22.8 KB\n"
     ]
    }
   ],
   "source": [
    "#muestra la información (incluido el tipo de dato) de los 6 atributos de entrada.\n",
    "df.drop('Y house price of unit area', axis=1).info()"
   ]
  },
  {
   "cell_type": "markdown",
   "id": "9c110131",
   "metadata": {},
   "source": [
    "### Mirando la distribución de la variable objetivo"
   ]
  },
  {
   "cell_type": "markdown",
   "id": "23621c9e",
   "metadata": {},
   "source": [
    "Ya que vamos a programar un modelo de regresión, nos vamos asegurar de que el histograma se vea como una curva de campana o una versión levemente sesgada de la misma. De lo contrario, afecta la capacidad de los algoritmos de aprendizaje automático para aprender todos los escenarios."
   ]
  },
  {
   "cell_type": "code",
   "execution_count": 16,
   "id": "0befd3f9",
   "metadata": {},
   "outputs": [
    {
     "data": {
      "text/plain": [
       "<AxesSubplot:>"
      ]
     },
     "execution_count": 16,
     "metadata": {},
     "output_type": "execute_result"
    },
    {
     "data": {
      "image/png": "[encoded data removed]",
      "text/plain": [
       "<Figure size 432x288 with 1 Axes>"
      ]
     },
     "metadata": {
      "needs_background": "light"
     },
     "output_type": "display_data"
    }
   ],
   "source": [
    "# Establece el backend de matplotlib en el backend 'en línea' \n",
    "%matplotlib inline\n",
    "#Crear gráfico de barras como la variable objetivo (tipo) continua.\n",
    "df['Y house price of unit area'].hist()"
   ]
  },
  {
   "cell_type": "markdown",
   "id": "0ec02273",
   "metadata": {},
   "source": [
    "Se puede observar que el histograma posee una curva de campana entre 0 y 85. Por lo tanto, es prudente decir que obtendremos un modelo de regresión con un nivel de aprendizaje aceptable. "
   ]
  },
  {
   "cell_type": "markdown",
   "id": "f8732688",
   "metadata": {},
   "source": [
    "# Análisis exploratorio de datos\n",
    ">- Variables categóricas: gráfico de barras\n",
    ">- Variables continuas: Histograma"
   ]
  },
  {
   "cell_type": "markdown",
   "id": "3534f37e",
   "metadata": {},
   "source": [
    "# Visualización la distribución de todas las variables de entrada categóricas mediante diagramas de barras"
   ]
  },
  {
   "cell_type": "code",
   "execution_count": 18,
   "id": "096b8eb7",
   "metadata": {},
   "outputs": [
    {
     "data": {
      "text/plain": [
       "No                                        414\n",
       "X1 transaction date                        12\n",
       "X2 house age                              236\n",
       "X3 distance to the nearest MRT station    259\n",
       "X4 number of convenience stores            11\n",
       "X5 latitude                               234\n",
       "X6 longitude                              232\n",
       "Y house price of unit area                270\n",
       "dtype: int64"
      ]
     },
     "execution_count": 18,
     "metadata": {},
     "output_type": "execute_result"
    }
   ],
   "source": [
    "# Encontramos los valores unicos para identificar aquellos que son categoricos y los que son continuos\n",
    "df.nunique()"
   ]
  },
  {
   "cell_type": "markdown",
   "id": "e8b9dd3e",
   "metadata": {},
   "source": [
    "Podemos observar que se identifican 2 variables categoricas mediante los datos obtenidos. Por lo general una variable categorica se identifica por que sus valores unicos suelen ser menores a 20 y existe una repetición de esos valores, lo que significa que los datos se agrupan por aquellos valores unicos.\n",
    "\n",
    "Basandonos en lo antes mencionado, se detectan 2 atributos categoricos: **'transaction date', 'number of convenience stores'**"
   ]
  },
  {
   "cell_type": "code",
   "execution_count": 24,
   "id": "9d7f4cc5",
   "metadata": {},
   "outputs": [],
   "source": [
    "def PlotBarCharts(inpData, colsToPlot):\n",
    "    \"\"\"\n",
    "    Método PlotBarCharts,\n",
    "    Este método realizara el gráfico de barras de múltiples datos a la vez, esto lo realizara basandose en las variables categoricas. \n",
    "    \n",
    "    Parametros\n",
    "        ----------\n",
    "        inpData : string\n",
    "            Data con la que se trabajara.\n",
    "        colsToPlot : List\n",
    "            Lista con las columnas que se desea mostrar.\n",
    "  \n",
    "    \"\"\"\n",
    "    \n",
    "    # Establece el backend de matplotlib en el backend 'en línea' \n",
    "    %matplotlib inline\n",
    "    \n",
    "    # Importamos la libreria matplotlib\n",
    "    import matplotlib.pyplot as plt\n",
    "    \n",
    "    # Generamos los multiples subplots\n",
    "    fig, subPlot=plt.subplots(nrows=1, ncols=len(colsToPlot), figsize=(20,5))\n",
    "    # Agregamos la leyenda del grafico\n",
    "    fig.suptitle('Bar charts of: '+ str(colsToPlot))\n",
    "    \n",
    "    # Genera la escala de los graficos para cada subplot\n",
    "    for colName, plotNumber in zip(colsToPlot, range(len(colsToPlot))):\n",
    "        inpData.groupby(colName).size().plot(kind='bar',ax=subPlot[plotNumber])"
   ]
  },
  {
   "cell_type": "code",
   "execution_count": 26,
   "id": "d77df4c2",
   "metadata": {},
   "outputs": [
    {
     "data": {
      "image/png": "[encoded data removed]",
      "text/plain": [
       "<Figure size 1440x360 with 2 Axes>"
      ]
     },
     "metadata": {
      "needs_background": "light"
     },
     "output_type": "display_data"
    }
   ],
   "source": [
    "#Llamando a la función PlotBarCharts\n",
    "PlotBarCharts(inpData=df, colsToPlot=['X1 transaction date', 'X4 number of convenience stores'])"
   ]
  },
  {
   "cell_type": "markdown",
   "id": "43972db4",
   "metadata": {},
   "source": [
    "# Interpretación:\n",
    "Estos gráficos de barras representan las frecuencias de cada categoría en el eje Y y los nombres de las categorías en el eje X.\n",
    "\n",
    "Los gráficos de barra resultantes poseen una frecuencia comparable, por lo tanto existen suficientes filas para cada categoría en los datos para que el algoritmo de aprendizaje autonomo aprenda.\n",
    "\n",
    "Variables categóricas seleccionadas:  **transaction date y number of convenience stores**"
   ]
  },
  {
   "cell_type": "markdown",
   "id": "ef3da512",
   "metadata": {},
   "source": [
    "# Visualizar la distribución de todas las variables continuas usando histogramas"
   ]
  },
  {
   "cell_type": "code",
   "execution_count": 27,
   "id": "99baff27",
   "metadata": {},
   "outputs": [
    {
     "data": {
      "text/plain": [
       "array([[<AxesSubplot:title={'center':'X2 house age'}>,\n",
       "        <AxesSubplot:title={'center':'X3 distance to the nearest MRT station'}>],\n",
       "       [<AxesSubplot:title={'center':'X5 latitude'}>,\n",
       "        <AxesSubplot:title={'center':'X6 longitude'}>]], dtype=object)"
      ]
     },
     "execution_count": 27,
     "metadata": {},
     "output_type": "execute_result"
    },
    {
     "data": {
      "image/png": "[encoded data removed]",
      "text/plain": [
       "<Figure size 1296x720 with 4 Axes>"
      ]
     },
     "metadata": {
      "needs_background": "light"
     },
     "output_type": "display_data"
    }
   ],
   "source": [
    "# Plotting histogramas de múltiples columnas juntas\n",
    "df.hist(['X2 house age','X3 distance to the nearest MRT station','X5 latitude', 'X6 longitude'], figsize=(18,10))"
   ]
  },
  {
   "cell_type": "markdown",
   "id": "e43871e9",
   "metadata": {},
   "source": [
    "# Interpretación\n",
    "\n",
    "El eje x muestra el rango de valores y el eje Y representa el número de valores en ese rango. Por ejemplo, en el histograma que representa la columna \"House age\", existen cerca de 100 registros que posee un valor entre 14 y 17.\n",
    "\n",
    "Los histogramas resultantes, poseen poca asimetría, por lo cual, no hara falta realizar un tratamiento de valores atipicos, por lo cual aceptamos la columna.\n",
    "\n",
    "\n",
    "Variables continuas seleccionadas:\n",
    "\n",
    "    House age: Seleccionado. La distribución es buena.\n",
    "    Distance to the nearest MRT station: Seleccionado. La distribución es buena.\n",
    "    latitude: Seleccionado. La distribución es buena.\n",
    "    longitude: Seleccionado. La distribución es buena."
   ]
  },
  {
   "cell_type": "code",
   "execution_count": 29,
   "id": "3017fc75",
   "metadata": {},
   "outputs": [
    {
     "data": {
      "image/png": "[encoded data removed]",
      "text/plain": [
       "<Figure size 720x360 with 1 Axes>"
      ]
     },
     "metadata": {
      "needs_background": "light"
     },
     "output_type": "display_data"
    },
    {
     "data": {
      "image/png": "[encoded data removed]",
      "text/plain": [
       "<Figure size 720x360 with 1 Axes>"
      ]
     },
     "metadata": {
      "needs_background": "light"
     },
     "output_type": "display_data"
    },
    {
     "data": {
      "image/png": "[encoded data removed]",
      "text/plain": [
       "<Figure size 720x360 with 1 Axes>"
      ]
     },
     "metadata": {
      "needs_background": "light"
     },
     "output_type": "display_data"
    },
    {
     "data": {
      "image/png": "[encoded data removed]",
      "text/plain": [
       "<Figure size 720x360 with 1 Axes>"
      ]
     },
     "metadata": {
      "needs_background": "light"
     },
     "output_type": "display_data"
    }
   ],
   "source": [
    "# Definición de las variables continuas\n",
    "ContinuousCols=['X2 house age','X3 distance to the nearest MRT station','X5 latitude', 'X6 longitude']\n",
    "\n",
    "# Plotting scatter chart por cada variable de entrada vs varible objetivo\n",
    "for predictor in ContinuousCols:\n",
    "    # Grafica de relación entre la variable dependiente y cada una de las variables continuas\n",
    "    df.plot.scatter(x=predictor, y='Y house price of unit area', figsize=(10,5), title=predictor+\" VS \"+ 'Y house price of unit area')"
   ]
  },
  {
   "cell_type": "markdown",
   "id": "298900e6",
   "metadata": {},
   "source": [
    "# Interpretación\n",
    "\n",
    "Cada variable posee su propia tendencia, gracias a los graficos de disperción obtenidos podemos identificar las siguientes tendencias:\n",
    "\n",
    "    House age: Tendencia creciente. Correlacionado.\n",
    "    Distance to the nearest MRT station: Tendencia decreciente. Correlacionado.\n",
    "    latitude: Seleccionado. Tendencia creciente. Correlacionado.\n",
    "    longitude: Seleccionado. Tendencia creciente. Correlacionado."
   ]
  },
  {
   "cell_type": "markdown",
   "id": "9d386bf0",
   "metadata": {},
   "source": [
    "## Preprocesamiento del dataset. Transformaciones previas necesarias para la modelación"
   ]
  },
  {
   "cell_type": "code",
   "execution_count": 33,
   "id": "3a7c1c2a",
   "metadata": {},
   "outputs": [],
   "source": [
    "# Define la variable objetivo \n",
    "VariableObjetivo=['Y house price of unit area']\n",
    "# Define las variables de entrada\n",
    "VariablesEntrada=['X1 transaction date', 'X2 house age', 'X3 distance to the nearest MRT station', 'X4 number of convenience stores', 'X5 latitude', 'X6 longitude']"
   ]
  },
  {
   "cell_type": "code",
   "execution_count": 34,
   "id": "c2e4ee98",
   "metadata": {},
   "outputs": [],
   "source": [
    "# Asignamos a X las variables de entrada\n",
    "X=df[VariablesEntrada].values\n",
    "# Asignamos a y la variable objetivo\n",
    "y=df[VariableObjetivo].values"
   ]
  },
  {
   "cell_type": "code",
   "execution_count": 36,
   "id": "50a480a9",
   "metadata": {},
   "outputs": [],
   "source": [
    "### Estandarización de la data ###\n",
    "#Importar la libreria StandardScaler\n",
    "from sklearn.preprocessing import StandardScaler\n",
    "\n",
    "# Definimos las variables de entradas escalar\n",
    "VariablesEntradaScaler=StandardScaler()\n",
    "# Definimos la variable objetivo escalar\n",
    "VariableObjetivoScaler=StandardScaler()"
   ]
  },
  {
   "cell_type": "code",
   "execution_count": 37,
   "id": "99404749",
   "metadata": {},
   "outputs": [],
   "source": [
    "#Alimentamos al modelo con la variable de entrada X\n",
    "VariablesEntradaFit=VariablesEntradaScaler.fit(X)\n",
    "#Alimentamos al modelo con la variable objetivo y\n",
    "VariableObjetivoFit=VariableObjetivoScaler.fit(y)"
   ]
  },
  {
   "cell_type": "code",
   "execution_count": 38,
   "id": "d08ce2b0",
   "metadata": {},
   "outputs": [],
   "source": [
    "#Generación de los valores estandarizados de X\n",
    "X=VariablesEntradaFit.transform(X)\n",
    "#Generación de los valores estandarizados de y\n",
    "y=VariableObjetivoFit.transform(y)"
   ]
  },
  {
   "cell_type": "markdown",
   "id": "74b02ce5",
   "metadata": {},
   "source": [
    "# División del dataset en datos de entrenamiento y datos de test "
   ]
  },
  {
   "cell_type": "code",
   "execution_count": 39,
   "id": "f0a62d6e",
   "metadata": {},
   "outputs": [],
   "source": [
    "# Importamos train_test_split de la ibreria sklearn.model_selection\n",
    "from sklearn.model_selection import train_test_split\n",
    "#Divida los datos en un conjunto de entrenamiento y prueba\n",
    "X_train, X_test, y_train, y_test = train_test_split(X, y, test_size=0.3, random_state=42)"
   ]
  },
  {
   "cell_type": "code",
   "execution_count": 40,
   "id": "079b2f24",
   "metadata": {},
   "outputs": [
    {
     "name": "stdout",
     "output_type": "stream",
     "text": [
      "(289, 6)\n",
      "(289, 1)\n",
      "(125, 6)\n",
      "(125, 1)\n"
     ]
    }
   ],
   "source": [
    "#Comprobación rápida del tamaño de los conjuntos de datos de entrenamiento y prueba\n",
    "print(X_train.shape)\n",
    "print(y_train.shape)\n",
    "print(X_test.shape)\n",
    "print(y_test.shape)"
   ]
  },
  {
   "cell_type": "code",
   "execution_count": null,
   "id": "695d8736",
   "metadata": {},
   "outputs": [],
   "source": []
  }
 ],
 "metadata": {
  "kernelspec": {
   "display_name": "Python 3 (ipykernel)",
   "language": "python",
   "name": "python3"
  },
  "language_info": {
   "codemirror_mode": {
    "name": "ipython",
    "version": 3
   },
   "file_extension": ".py",
   "mimetype": "text/x-python",
   "name": "python",
   "nbconvert_exporter": "python",
   "pygments_lexer": "ipython3",
   "version": "3.9.7"
  }
 },
 "nbformat": 4,
 "nbformat_minor": 5
}
